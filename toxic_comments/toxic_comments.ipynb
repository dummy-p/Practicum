{
 "cells": [
  {
   "cell_type": "markdown",
   "metadata": {
    "toc": true
   },
   "source": [
    "<h1>Содержание<span class=\"tocSkip\"></span></h1>\n",
    "<div class=\"toc\"><ul class=\"toc-item\"><li><span><a href=\"#Подготовка\" data-toc-modified-id=\"Подготовка-1\"><span class=\"toc-item-num\">1&nbsp;&nbsp;</span>Подготовка</a></span></li><li><span><a href=\"#Обучение\" data-toc-modified-id=\"Обучение-2\"><span class=\"toc-item-num\">2&nbsp;&nbsp;</span>Обучение</a></span><ul class=\"toc-item\"><li><span><a href=\"#Модель-CatBoost\" data-toc-modified-id=\"Модель-CatBoost-2.1\"><span class=\"toc-item-num\">2.1&nbsp;&nbsp;</span>Модель CatBoost</a></span></li><li><span><a href=\"#Модель-LightGBM\" data-toc-modified-id=\"Модель-LightGBM-2.2\"><span class=\"toc-item-num\">2.2&nbsp;&nbsp;</span>Модель LightGBM</a></span></li><li><span><a href=\"#Модель-Logistic-Regression\" data-toc-modified-id=\"Модель-Logistic-Regression-2.3\"><span class=\"toc-item-num\">2.3&nbsp;&nbsp;</span>Модель Logistic Regression</a></span></li><li><span><a href=\"#Результаты-обучения\" data-toc-modified-id=\"Результаты-обучения-2.4\"><span class=\"toc-item-num\">2.4&nbsp;&nbsp;</span>Результаты обучения</a></span></li><li><span><a href=\"#Тестирование-лучшей-модели\" data-toc-modified-id=\"Тестирование-лучшей-модели-2.5\"><span class=\"toc-item-num\">2.5&nbsp;&nbsp;</span>Тестирование лучшей модели</a></span></li></ul></li><li><span><a href=\"#Выводы\" data-toc-modified-id=\"Выводы-3\"><span class=\"toc-item-num\">3&nbsp;&nbsp;</span>Выводы</a></span></li></ul></div>"
   ]
  },
  {
   "cell_type": "markdown",
   "metadata": {},
   "source": [
    "# Классификация комментариев"
   ]
  },
  {
   "cell_type": "markdown",
   "metadata": {},
   "source": [
    "Интернет-магазин запускает новый сервис. Теперь пользователи могут редактировать и дополнять описания товаров, как в вики-сообществах. То есть клиенты предлагают свои правки и комментируют изменения других. Магазину нужен инструмент, который будет искать токсичные комментарии и отправлять их на модерацию. \n",
    "\n",
    "Требуется обучить модель классифицировать комментарии на позитивные и негативные. В распоряжении имеется набор данных с разметкой о токсичности правок.\n",
    "\n",
    "<b>Цель</b>: Построить модель со значением метрики качества *F1* не меньше 0.75. "
   ]
  },
  {
   "cell_type": "markdown",
   "metadata": {},
   "source": [
    "## Подготовка"
   ]
  },
  {
   "cell_type": "code",
   "execution_count": 1,
   "metadata": {},
   "outputs": [],
   "source": [
    "#импорт библиотек\n",
    "import pandas as pd\n",
    "import numpy as np\n",
    "\n",
    "from sklearn.linear_model import LogisticRegression\n",
    "from sklearn.feature_extraction.text import TfidfVectorizer\n",
    "from sklearn.metrics import f1_score\n",
    "from sklearn.model_selection import cross_val_score, train_test_split, GridSearchCV\n",
    "from sklearn.pipeline import Pipeline\n",
    "\n",
    "from catboost import CatBoostClassifier\n",
    "\n",
    "import lightgbm as ltb\n",
    "\n",
    "import nltk\n",
    "from nltk.stem import WordNetLemmatizer\n",
    "from nltk.corpus import stopwords as nltk_stopwords\n",
    "\n",
    "import re\n",
    "\n",
    "from tqdm import notebook\n",
    "from tqdm.notebook import tqdm"
   ]
  },
  {
   "cell_type": "code",
   "execution_count": 2,
   "metadata": {},
   "outputs": [],
   "source": [
    "data = pd.read_csv(\"/datasets/toxic_comments.csv\") #загрузка датасета"
   ]
  },
  {
   "cell_type": "code",
   "execution_count": 3,
   "metadata": {},
   "outputs": [
    {
     "name": "stdout",
     "output_type": "stream",
     "text": [
      "<class 'pandas.core.frame.DataFrame'>\n",
      "RangeIndex: 159571 entries, 0 to 159570\n",
      "Data columns (total 2 columns):\n",
      " #   Column  Non-Null Count   Dtype \n",
      "---  ------  --------------   ----- \n",
      " 0   text    159571 non-null  object\n",
      " 1   toxic   159571 non-null  int64 \n",
      "dtypes: int64(1), object(1)\n",
      "memory usage: 2.4+ MB\n"
     ]
    }
   ],
   "source": [
    "data.info() #общая информация о данных"
   ]
  },
  {
   "cell_type": "markdown",
   "metadata": {},
   "source": [
    "Оценим баланс классов:"
   ]
  },
  {
   "cell_type": "code",
   "execution_count": 4,
   "metadata": {},
   "outputs": [
    {
     "data": {
      "text/plain": [
       "0    143346\n",
       "1     16225\n",
       "Name: toxic, dtype: int64"
      ]
     },
     "execution_count": 4,
     "metadata": {},
     "output_type": "execute_result"
    }
   ],
   "source": [
    "data['toxic'].value_counts()"
   ]
  },
  {
   "cell_type": "markdown",
   "metadata": {},
   "source": [
    "Видно, что количество объектов класса 0 значительно больше. Учтем это в дальнейшем при обучении."
   ]
  },
  {
   "cell_type": "code",
   "execution_count": 5,
   "metadata": {},
   "outputs": [
    {
     "data": {
      "text/html": [
       "<div>\n",
       "<style scoped>\n",
       "    .dataframe tbody tr th:only-of-type {\n",
       "        vertical-align: middle;\n",
       "    }\n",
       "\n",
       "    .dataframe tbody tr th {\n",
       "        vertical-align: top;\n",
       "    }\n",
       "\n",
       "    .dataframe thead th {\n",
       "        text-align: right;\n",
       "    }\n",
       "</style>\n",
       "<table border=\"1\" class=\"dataframe\">\n",
       "  <thead>\n",
       "    <tr style=\"text-align: right;\">\n",
       "      <th></th>\n",
       "      <th>text</th>\n",
       "      <th>toxic</th>\n",
       "    </tr>\n",
       "  </thead>\n",
       "  <tbody>\n",
       "    <tr>\n",
       "      <th>0</th>\n",
       "      <td>Explanation\\nWhy the edits made under my username Hardcore Metallica Fan were reverted? They weren't vandalisms, just closure on some GAs after I voted at New York Dolls FAC. And please don't remove the template from the talk page since I'm retired now.89.205.38.27</td>\n",
       "      <td>0</td>\n",
       "    </tr>\n",
       "    <tr>\n",
       "      <th>1</th>\n",
       "      <td>D'aww! He matches this background colour I'm seemingly stuck with. Thanks.  (talk) 21:51, January 11, 2016 (UTC)</td>\n",
       "      <td>0</td>\n",
       "    </tr>\n",
       "    <tr>\n",
       "      <th>2</th>\n",
       "      <td>Hey man, I'm really not trying to edit war. It's just that this guy is constantly removing relevant information and talking to me through edits instead of my talk page. He seems to care more about the formatting than the actual info.</td>\n",
       "      <td>0</td>\n",
       "    </tr>\n",
       "    <tr>\n",
       "      <th>3</th>\n",
       "      <td>\"\\nMore\\nI can't make any real suggestions on improvement - I wondered if the section statistics should be later on, or a subsection of \"\"types of accidents\"\"  -I think the references may need tidying so that they are all in the exact same format ie date format etc. I can do that later on, if no-one else does first - if you have any preferences for formatting style on references or want to do ...</td>\n",
       "      <td>0</td>\n",
       "    </tr>\n",
       "    <tr>\n",
       "      <th>4</th>\n",
       "      <td>You, sir, are my hero. Any chance you remember what page that's on?</td>\n",
       "      <td>0</td>\n",
       "    </tr>\n",
       "  </tbody>\n",
       "</table>\n",
       "</div>"
      ],
      "text/plain": [
       "                                                                                                                                                                                                                                                                                                                                                                                                              text  \\\n",
       "0                                                                                                                                        Explanation\\nWhy the edits made under my username Hardcore Metallica Fan were reverted? They weren't vandalisms, just closure on some GAs after I voted at New York Dolls FAC. And please don't remove the template from the talk page since I'm retired now.89.205.38.27   \n",
       "1                                                                                                                                                                                                                                                                                                 D'aww! He matches this background colour I'm seemingly stuck with. Thanks.  (talk) 21:51, January 11, 2016 (UTC)   \n",
       "2                                                                                                                                                                        Hey man, I'm really not trying to edit war. It's just that this guy is constantly removing relevant information and talking to me through edits instead of my talk page. He seems to care more about the formatting than the actual info.   \n",
       "3  \"\\nMore\\nI can't make any real suggestions on improvement - I wondered if the section statistics should be later on, or a subsection of \"\"types of accidents\"\"  -I think the references may need tidying so that they are all in the exact same format ie date format etc. I can do that later on, if no-one else does first - if you have any preferences for formatting style on references or want to do ...   \n",
       "4                                                                                                                                                                                                                                                                                                                                              You, sir, are my hero. Any chance you remember what page that's on?   \n",
       "\n",
       "   toxic  \n",
       "0      0  \n",
       "1      0  \n",
       "2      0  \n",
       "3      0  \n",
       "4      0  "
      ]
     },
     "execution_count": 5,
     "metadata": {},
     "output_type": "execute_result"
    }
   ],
   "source": [
    "pd.set_option('max_colwidth', 400)\n",
    "data.head()"
   ]
  },
  {
   "cell_type": "code",
   "execution_count": 6,
   "metadata": {},
   "outputs": [],
   "source": [
    "lemmatizer = WordNetLemmatizer() #инициализируем лемматизатор"
   ]
  },
  {
   "cell_type": "markdown",
   "metadata": {},
   "source": [
    "Функции лемматизации и очистки текста:"
   ]
  },
  {
   "cell_type": "code",
   "execution_count": 7,
   "metadata": {},
   "outputs": [],
   "source": [
    "def lemmatize(text):\n",
    "    word_list = nltk.word_tokenize(text)\n",
    "    lemmatized_output = ' '.join([lemmatizer.lemmatize(w) for w in word_list])\n",
    "    return lemmatized_output\n",
    "\n",
    "def clear_text(text):\n",
    "    text = text.lower()\n",
    "    text = re.sub(r\"[^a-zA-Z']\", ' ', text)\n",
    "    return ' '.join(text.split()) "
   ]
  },
  {
   "cell_type": "markdown",
   "metadata": {},
   "source": [
    "Применяем функции к датасету:"
   ]
  },
  {
   "cell_type": "code",
   "execution_count": 8,
   "metadata": {},
   "outputs": [
    {
     "data": {
      "application/vnd.jupyter.widget-view+json": {
       "model_id": "9fc4cf52a50548acbc8579ca78a16776",
       "version_major": 2,
       "version_minor": 0
      },
      "text/plain": [
       "  0%|          | 0/159571 [00:00<?, ?it/s]"
      ]
     },
     "metadata": {},
     "output_type": "display_data"
    }
   ],
   "source": [
    "tqdm.pandas()\n",
    "data['lemm_text'] = data['text'].progress_apply(lambda x: lemmatize(clear_text(x)))"
   ]
  },
  {
   "cell_type": "code",
   "execution_count": 9,
   "metadata": {},
   "outputs": [],
   "source": [
    "STATE = np.random.RandomState(12345) #объект RandomState для дальнейшего использования по всему проекту"
   ]
  },
  {
   "cell_type": "markdown",
   "metadata": {},
   "source": [
    "Разбиваем датасет на тренировочную, валидационную и тестовую выборки в соотношении 3-1-1. Так как векторы строк зависят от полного набора текстов, то проводить кросс-валидацию проблематично (нужно каждый раз переопределять векторы). Поэтому используем валидационную выборку."
   ]
  },
  {
   "cell_type": "code",
   "execution_count": 10,
   "metadata": {},
   "outputs": [],
   "source": [
    "corpus_total = data['lemm_text'].values\n",
    "target_total = data['toxic']\n",
    "\n",
    "features_train, features_part, target_train, target_part = train_test_split(\n",
    "    corpus_total, target_total, test_size=0.4, random_state=STATE)\n",
    "\n",
    "features_test, features_valid, target_test, target_valid = train_test_split(\n",
    "    features_part, target_part, test_size=0.5, random_state=STATE)"
   ]
  },
  {
   "cell_type": "markdown",
   "metadata": {},
   "source": [
    "Проводим векторизацию текстов в полученных выборках:"
   ]
  },
  {
   "cell_type": "code",
   "execution_count": 11,
   "metadata": {},
   "outputs": [
    {
     "name": "stdout",
     "output_type": "stream",
     "text": [
      "Размер матрицы tf-idf_train: (95742, 117494)\n"
     ]
    }
   ],
   "source": [
    "stopwords = set(nltk_stopwords.words('english'))\n",
    "\n",
    "count_tf_idf = TfidfVectorizer(stop_words = stopwords) \n",
    "tf_idf_train = count_tf_idf.fit_transform(features_train) \n",
    "print('Размер матрицы tf-idf_train:', tf_idf_train.shape)"
   ]
  },
  {
   "cell_type": "code",
   "execution_count": 12,
   "metadata": {},
   "outputs": [
    {
     "name": "stdout",
     "output_type": "stream",
     "text": [
      "Размер матрицы tf-idf_valid: (31915, 117494)\n"
     ]
    }
   ],
   "source": [
    "tf_idf_valid = count_tf_idf.transform(features_valid) \n",
    "print('Размер матрицы tf-idf_valid:', tf_idf_valid.shape)"
   ]
  },
  {
   "cell_type": "code",
   "execution_count": 13,
   "metadata": {
    "scrolled": true
   },
   "outputs": [
    {
     "name": "stdout",
     "output_type": "stream",
     "text": [
      "Размер матрицы tf-idf_test: (31914, 117494)\n"
     ]
    }
   ],
   "source": [
    "tf_idf_test = count_tf_idf.transform(features_test) \n",
    "print('Размер матрицы tf-idf_test:', tf_idf_test.shape)"
   ]
  },
  {
   "cell_type": "markdown",
   "metadata": {},
   "source": [
    "<b>Вывод: </b>данные подготовлены - получена общая информация, датасет разбит на выборки, проведена векторизация тестов, размерности TF-IDF матриц в порядке."
   ]
  },
  {
   "cell_type": "markdown",
   "metadata": {},
   "source": [
    "## Обучение"
   ]
  },
  {
   "cell_type": "markdown",
   "metadata": {},
   "source": [
    "Функция для обучения моделей, возвращающая результаты по метрике F1:"
   ]
  },
  {
   "cell_type": "code",
   "execution_count": 14,
   "metadata": {},
   "outputs": [],
   "source": [
    "summary = pd.DataFrame() #инициализируем датафрейм для записи результатов обучения моделей\n",
    "\n",
    "def model_run(model, features_train, target_train, features_valid, target_valid, summary):\n",
    "    model.fit(features_train, target_train)\n",
    "    \n",
    "    F1_train = f1_score(target_train, model.predict(features_train))\n",
    "    F1_valid = f1_score(target_valid, model.predict(features_valid))\n",
    "    \n",
    "    summary = summary.append({'model' : type(model).__name__,\n",
    "                            'F1_train' : F1_train,\n",
    "                            'F1_valid' : F1_valid} , ignore_index=True)\n",
    "    return summary"
   ]
  },
  {
   "cell_type": "markdown",
   "metadata": {},
   "source": [
    "Для учета дисбаланса создадим словарь весов `dict_classes`, который используем для параметра `class_weight`:"
   ]
  },
  {
   "cell_type": "code",
   "execution_count": 15,
   "metadata": {},
   "outputs": [],
   "source": [
    "class_ratio = data['toxic'].value_counts()[0] / data['toxic'].value_counts()[1]\n",
    "class_weights={0:1, 1:class_ratio}"
   ]
  },
  {
   "cell_type": "markdown",
   "metadata": {},
   "source": [
    "### Модель CatBoost"
   ]
  },
  {
   "cell_type": "code",
   "execution_count": 17,
   "metadata": {},
   "outputs": [
    {
     "name": "stdout",
     "output_type": "stream",
     "text": [
      "Learning rate set to 0.316097\n",
      "0:\tlearn: 0.4006517\ttotal: 2.35s\tremaining: 7m 46s\n",
      "10:\tlearn: 0.5941772\ttotal: 20.1s\tremaining: 5m 44s\n",
      "20:\tlearn: 0.6211481\ttotal: 37.1s\tremaining: 5m 16s\n",
      "30:\tlearn: 0.6508557\ttotal: 53.6s\tremaining: 4m 52s\n",
      "40:\tlearn: 0.6834105\ttotal: 1m 10s\tremaining: 4m 32s\n",
      "50:\tlearn: 0.6986708\ttotal: 1m 26s\tremaining: 4m 13s\n",
      "60:\tlearn: 0.7134034\ttotal: 1m 43s\tremaining: 3m 55s\n",
      "70:\tlearn: 0.7307548\ttotal: 1m 59s\tremaining: 3m 37s\n",
      "80:\tlearn: 0.7392547\ttotal: 2m 16s\tremaining: 3m 19s\n",
      "90:\tlearn: 0.7461543\ttotal: 2m 32s\tremaining: 3m 2s\n",
      "100:\tlearn: 0.7544257\ttotal: 2m 48s\tremaining: 2m 45s\n",
      "110:\tlearn: 0.7604313\ttotal: 3m 4s\tremaining: 2m 28s\n",
      "120:\tlearn: 0.7656553\ttotal: 3m 21s\tremaining: 2m 11s\n",
      "130:\tlearn: 0.7690725\ttotal: 3m 37s\tremaining: 1m 54s\n",
      "140:\tlearn: 0.7715528\ttotal: 3m 53s\tremaining: 1m 37s\n",
      "150:\tlearn: 0.7742363\ttotal: 4m 9s\tremaining: 1m 20s\n",
      "160:\tlearn: 0.7770969\ttotal: 4m 25s\tremaining: 1m 4s\n",
      "170:\tlearn: 0.7793782\ttotal: 4m 41s\tremaining: 47.7s\n",
      "180:\tlearn: 0.7820935\ttotal: 4m 57s\tremaining: 31.2s\n",
      "190:\tlearn: 0.7863881\ttotal: 5m 13s\tremaining: 14.8s\n",
      "199:\tlearn: 0.7899630\ttotal: 5m 28s\tremaining: 0us\n",
      "CPU times: user 5min 48s, sys: 3.13 s, total: 5min 51s\n",
      "Wall time: 5min 52s\n"
     ]
    }
   ],
   "source": [
    "%%time\n",
    "\n",
    "summary = model_run(CatBoostClassifier(iterations=200, eval_metric='F1', verbose=10),tf_idf_train, target_train, tf_idf_valid, target_valid, summary)"
   ]
  },
  {
   "cell_type": "markdown",
   "metadata": {},
   "source": [
    "### Модель LightGBM"
   ]
  },
  {
   "cell_type": "code",
   "execution_count": 18,
   "metadata": {},
   "outputs": [
    {
     "name": "stdout",
     "output_type": "stream",
     "text": [
      "CPU times: user 1min 45s, sys: 410 ms, total: 1min 45s\n",
      "Wall time: 1min 46s\n"
     ]
    }
   ],
   "source": [
    "%%time\n",
    "summary = model_run(ltb.LGBMClassifier(max_depth=10, learning_rate=0.5, class_weight=class_weights, n_jobs=-1),\n",
    "                    tf_idf_train, target_train, tf_idf_valid, target_valid, summary)"
   ]
  },
  {
   "cell_type": "markdown",
   "metadata": {},
   "source": [
    "### Модель Logistic Regression"
   ]
  },
  {
   "cell_type": "code",
   "execution_count": 19,
   "metadata": {},
   "outputs": [
    {
     "name": "stdout",
     "output_type": "stream",
     "text": [
      "CPU times: user 9.71 s, sys: 22 s, total: 31.7 s\n",
      "Wall time: 31.7 s\n"
     ]
    }
   ],
   "source": [
    "%%time\n",
    "\n",
    "lr = LogisticRegression(solver='liblinear', class_weight=class_weights, C=10)\n",
    "\n",
    "summary = model_run(lr, tf_idf_train, target_train, tf_idf_valid, target_valid, summary)"
   ]
  },
  {
   "cell_type": "markdown",
   "metadata": {},
   "source": [
    "### Результаты обучения"
   ]
  },
  {
   "cell_type": "code",
   "execution_count": 20,
   "metadata": {},
   "outputs": [
    {
     "data": {
      "text/html": [
       "<div>\n",
       "<style scoped>\n",
       "    .dataframe tbody tr th:only-of-type {\n",
       "        vertical-align: middle;\n",
       "    }\n",
       "\n",
       "    .dataframe tbody tr th {\n",
       "        vertical-align: top;\n",
       "    }\n",
       "\n",
       "    .dataframe thead th {\n",
       "        text-align: right;\n",
       "    }\n",
       "</style>\n",
       "<table border=\"1\" class=\"dataframe\">\n",
       "  <thead>\n",
       "    <tr style=\"text-align: right;\">\n",
       "      <th></th>\n",
       "      <th>F1_train</th>\n",
       "      <th>F1_valid</th>\n",
       "      <th>model</th>\n",
       "    </tr>\n",
       "  </thead>\n",
       "  <tbody>\n",
       "    <tr>\n",
       "      <th>0</th>\n",
       "      <td>0.789963</td>\n",
       "      <td>0.742145</td>\n",
       "      <td>CatBoostClassifier</td>\n",
       "    </tr>\n",
       "    <tr>\n",
       "      <th>1</th>\n",
       "      <td>0.851680</td>\n",
       "      <td>0.740401</td>\n",
       "      <td>LGBMClassifier</td>\n",
       "    </tr>\n",
       "    <tr>\n",
       "      <th>2</th>\n",
       "      <td>0.938293</td>\n",
       "      <td>0.753687</td>\n",
       "      <td>LogisticRegression</td>\n",
       "    </tr>\n",
       "  </tbody>\n",
       "</table>\n",
       "</div>"
      ],
      "text/plain": [
       "   F1_train  F1_valid               model\n",
       "0  0.789963  0.742145  CatBoostClassifier\n",
       "1  0.851680  0.740401      LGBMClassifier\n",
       "2  0.938293  0.753687  LogisticRegression"
      ]
     },
     "metadata": {},
     "output_type": "display_data"
    }
   ],
   "source": [
    "display(summary)"
   ]
  },
  {
   "cell_type": "markdown",
   "metadata": {},
   "source": [
    "Таким образом, лучшей моделью на валидационной выборке по метрике F1 стала Logistic Regression."
   ]
  },
  {
   "cell_type": "markdown",
   "metadata": {},
   "source": [
    "### Тестирование лучшей модели"
   ]
  },
  {
   "cell_type": "code",
   "execution_count": 21,
   "metadata": {
    "scrolled": true
   },
   "outputs": [
    {
     "name": "stdout",
     "output_type": "stream",
     "text": [
      "F1 лучшей модели на тестовой выборке: 0.7628383321141186\n"
     ]
    }
   ],
   "source": [
    "print('F1 лучшей модели на тестовой выборке:', f1_score(target_test, lr.predict(tf_idf_test)))"
   ]
  },
  {
   "cell_type": "markdown",
   "metadata": {},
   "source": [
    "## Выводы"
   ]
  },
  {
   "cell_type": "markdown",
   "metadata": {},
   "source": [
    "Таким образом, было исследовано несколько моделей, классифицирющих токсичные и нетоксичные комментарии. В процессе работы признаки были подготовлены с помощью TF-IDF метода, а затем на полученных признаках было обучено три модели:\n",
    "\n",
    "    *CatBoost\n",
    "    *LightGBM\n",
    "    *Logistic Regression\n",
    "\n",
    "Лучшей моделью на валидационной выборке стала Logistic Regression. Эта модель была исследована на тестовой выборке, требуемое значение F1-метрики 0.75 было достигнуто."
   ]
  }
 ],
 "metadata": {
  "ExecuteTimeLog": [
   {
    "duration": 1324,
    "start_time": "2022-07-22T15:10:45.086Z"
   },
   {
    "duration": 2367,
    "start_time": "2022-07-22T15:10:48.022Z"
   },
   {
    "duration": 15,
    "start_time": "2022-07-22T15:11:00.667Z"
   },
   {
    "duration": 5,
    "start_time": "2022-07-22T15:21:22.726Z"
   },
   {
    "duration": 3,
    "start_time": "2022-07-22T15:21:26.372Z"
   },
   {
    "duration": 563729,
    "start_time": "2022-07-22T15:21:27.128Z"
   },
   {
    "duration": 1366,
    "start_time": "2022-07-22T15:31:13.328Z"
   },
   {
    "duration": 947,
    "start_time": "2022-07-22T15:31:16.972Z"
   },
   {
    "duration": 45,
    "start_time": "2022-07-22T15:31:18.799Z"
   },
   {
    "duration": 25,
    "start_time": "2022-07-22T15:31:40.708Z"
   },
   {
    "duration": 317,
    "start_time": "2022-07-22T15:45:00.645Z"
   },
   {
    "duration": 14,
    "start_time": "2022-07-22T15:45:44.390Z"
   },
   {
    "duration": 234,
    "start_time": "2022-07-22T15:46:11.500Z"
   },
   {
    "duration": 9,
    "start_time": "2022-07-22T15:52:08.086Z"
   },
   {
    "duration": 13,
    "start_time": "2022-07-22T15:52:13.348Z"
   },
   {
    "duration": 19,
    "start_time": "2022-07-22T15:52:20.508Z"
   },
   {
    "duration": 21,
    "start_time": "2022-07-22T15:52:30.720Z"
   },
   {
    "duration": 46,
    "start_time": "2022-07-22T15:54:39.820Z"
   },
   {
    "duration": 22,
    "start_time": "2022-07-22T15:55:05.173Z"
   },
   {
    "duration": 12,
    "start_time": "2022-07-22T15:55:12.904Z"
   },
   {
    "duration": 1240,
    "start_time": "2022-07-22T15:56:31.323Z"
   },
   {
    "duration": 845,
    "start_time": "2022-07-22T15:56:32.565Z"
   },
   {
    "duration": 24,
    "start_time": "2022-07-22T15:56:33.412Z"
   },
   {
    "duration": 28,
    "start_time": "2022-07-22T15:56:33.438Z"
   },
   {
    "duration": 8,
    "start_time": "2022-07-22T15:56:33.468Z"
   },
   {
    "duration": 46,
    "start_time": "2022-07-22T15:56:33.478Z"
   },
   {
    "duration": 11,
    "start_time": "2022-07-22T15:56:33.526Z"
   },
   {
    "duration": 32,
    "start_time": "2022-07-22T15:56:33.539Z"
   },
   {
    "duration": 660972,
    "start_time": "2022-07-22T15:56:33.573Z"
   },
   {
    "duration": 1207,
    "start_time": "2022-07-22T16:10:02.233Z"
   },
   {
    "duration": 812,
    "start_time": "2022-07-22T16:10:03.442Z"
   },
   {
    "duration": 26,
    "start_time": "2022-07-22T16:10:04.255Z"
   },
   {
    "duration": 33,
    "start_time": "2022-07-22T16:10:04.282Z"
   },
   {
    "duration": 14,
    "start_time": "2022-07-22T16:10:04.317Z"
   },
   {
    "duration": 24,
    "start_time": "2022-07-22T16:10:04.333Z"
   },
   {
    "duration": 44,
    "start_time": "2022-07-22T16:10:04.359Z"
   },
   {
    "duration": 3,
    "start_time": "2022-07-22T16:10:41.660Z"
   },
   {
    "duration": 110,
    "start_time": "2022-07-22T16:10:42.270Z"
   },
   {
    "duration": 1185,
    "start_time": "2022-07-22T16:11:39.982Z"
   },
   {
    "duration": 831,
    "start_time": "2022-07-22T16:11:41.169Z"
   },
   {
    "duration": 30,
    "start_time": "2022-07-22T16:11:42.002Z"
   },
   {
    "duration": 32,
    "start_time": "2022-07-22T16:11:42.033Z"
   },
   {
    "duration": 8,
    "start_time": "2022-07-22T16:11:42.067Z"
   },
   {
    "duration": 16,
    "start_time": "2022-07-22T16:11:42.077Z"
   },
   {
    "duration": 14,
    "start_time": "2022-07-22T16:11:42.094Z"
   },
   {
    "duration": 8,
    "start_time": "2022-07-22T16:11:42.109Z"
   },
   {
    "duration": 2515777,
    "start_time": "2022-07-22T16:11:42.119Z"
   },
   {
    "duration": 1284,
    "start_time": "2022-07-22T16:55:05.898Z"
   },
   {
    "duration": 851,
    "start_time": "2022-07-22T16:55:07.184Z"
   },
   {
    "duration": 34,
    "start_time": "2022-07-22T16:55:08.037Z"
   },
   {
    "duration": 21,
    "start_time": "2022-07-22T16:55:08.073Z"
   },
   {
    "duration": 13,
    "start_time": "2022-07-22T16:55:08.095Z"
   },
   {
    "duration": 27,
    "start_time": "2022-07-22T16:55:08.110Z"
   },
   {
    "duration": 20,
    "start_time": "2022-07-22T16:55:08.139Z"
   },
   {
    "duration": 25,
    "start_time": "2022-07-22T16:55:08.161Z"
   },
   {
    "duration": 136,
    "start_time": "2022-07-22T16:55:08.188Z"
   },
   {
    "duration": 1001990,
    "start_time": "2022-07-22T16:55:13.963Z"
   },
   {
    "duration": 1317,
    "start_time": "2022-07-22T17:12:45.767Z"
   },
   {
    "duration": 855,
    "start_time": "2022-07-22T17:12:47.086Z"
   },
   {
    "duration": 31,
    "start_time": "2022-07-22T17:12:47.942Z"
   },
   {
    "duration": 21,
    "start_time": "2022-07-22T17:12:47.974Z"
   },
   {
    "duration": 14,
    "start_time": "2022-07-22T17:12:47.997Z"
   },
   {
    "duration": 25,
    "start_time": "2022-07-22T17:12:48.012Z"
   },
   {
    "duration": 11,
    "start_time": "2022-07-22T17:12:48.039Z"
   },
   {
    "duration": 14,
    "start_time": "2022-07-22T17:12:48.052Z"
   },
   {
    "duration": 21,
    "start_time": "2022-07-22T17:12:48.068Z"
   },
   {
    "duration": 113,
    "start_time": "2022-07-22T17:12:48.090Z"
   },
   {
    "duration": 1306,
    "start_time": "2022-07-22T17:55:43.444Z"
   },
   {
    "duration": 890,
    "start_time": "2022-07-22T17:55:44.752Z"
   },
   {
    "duration": 37,
    "start_time": "2022-07-22T17:55:45.644Z"
   },
   {
    "duration": 31,
    "start_time": "2022-07-22T17:55:45.683Z"
   },
   {
    "duration": 19,
    "start_time": "2022-07-22T17:55:45.717Z"
   },
   {
    "duration": 25,
    "start_time": "2022-07-22T17:55:45.738Z"
   },
   {
    "duration": 28,
    "start_time": "2022-07-22T17:55:45.765Z"
   },
   {
    "duration": 8,
    "start_time": "2022-07-22T17:55:45.795Z"
   },
   {
    "duration": 10,
    "start_time": "2022-07-22T17:55:45.804Z"
   },
   {
    "duration": 121,
    "start_time": "2022-07-22T17:55:45.816Z"
   },
   {
    "duration": 13,
    "start_time": "2022-07-22T17:56:09.729Z"
   },
   {
    "duration": 19,
    "start_time": "2022-07-22T17:57:17.855Z"
   },
   {
    "duration": 40,
    "start_time": "2022-07-22T17:57:35.623Z"
   },
   {
    "duration": 19,
    "start_time": "2022-07-22T17:57:39.501Z"
   },
   {
    "duration": 3906,
    "start_time": "2022-07-22T17:58:03.598Z"
   },
   {
    "duration": 7,
    "start_time": "2022-07-22T17:58:36.476Z"
   },
   {
    "duration": 1243,
    "start_time": "2022-07-22T18:00:13.077Z"
   },
   {
    "duration": 6,
    "start_time": "2022-07-22T18:00:23.274Z"
   },
   {
    "duration": 1337,
    "start_time": "2022-07-22T18:02:00.756Z"
   },
   {
    "duration": 851,
    "start_time": "2022-07-22T18:02:02.095Z"
   },
   {
    "duration": 31,
    "start_time": "2022-07-22T18:02:02.948Z"
   },
   {
    "duration": 4,
    "start_time": "2022-07-22T18:02:02.980Z"
   },
   {
    "duration": 5,
    "start_time": "2022-07-22T18:02:02.986Z"
   },
   {
    "duration": 6,
    "start_time": "2022-07-22T18:02:02.992Z"
   },
   {
    "duration": 9,
    "start_time": "2022-07-22T18:02:02.999Z"
   },
   {
    "duration": 6,
    "start_time": "2022-07-22T18:02:03.009Z"
   },
   {
    "duration": 5,
    "start_time": "2022-07-22T18:02:03.016Z"
   },
   {
    "duration": 87057,
    "start_time": "2022-07-22T18:02:03.022Z"
   },
   {
    "duration": 123,
    "start_time": "2022-07-22T18:03:30.081Z"
   },
   {
    "duration": 11,
    "start_time": "2022-07-22T18:03:38.521Z"
   },
   {
    "duration": 1284,
    "start_time": "2022-07-22T18:04:37.416Z"
   },
   {
    "duration": 902,
    "start_time": "2022-07-22T18:04:38.702Z"
   },
   {
    "duration": 32,
    "start_time": "2022-07-22T18:04:39.605Z"
   },
   {
    "duration": 22,
    "start_time": "2022-07-22T18:04:39.639Z"
   },
   {
    "duration": 3,
    "start_time": "2022-07-22T18:04:39.662Z"
   },
   {
    "duration": 5,
    "start_time": "2022-07-22T18:04:39.668Z"
   },
   {
    "duration": 7,
    "start_time": "2022-07-22T18:04:39.674Z"
   },
   {
    "duration": 7,
    "start_time": "2022-07-22T18:04:39.683Z"
   },
   {
    "duration": 5,
    "start_time": "2022-07-22T18:04:39.692Z"
   },
   {
    "duration": 8,
    "start_time": "2022-07-22T18:04:39.701Z"
   },
   {
    "duration": 89502,
    "start_time": "2022-07-22T18:04:39.710Z"
   },
   {
    "duration": 6,
    "start_time": "2022-07-22T18:06:09.214Z"
   },
   {
    "duration": 1326,
    "start_time": "2022-07-22T18:14:13.044Z"
   },
   {
    "duration": 851,
    "start_time": "2022-07-22T18:14:14.373Z"
   },
   {
    "duration": 41,
    "start_time": "2022-07-22T18:14:15.226Z"
   },
   {
    "duration": 16,
    "start_time": "2022-07-22T18:14:15.269Z"
   },
   {
    "duration": 11,
    "start_time": "2022-07-22T18:14:15.286Z"
   },
   {
    "duration": 9,
    "start_time": "2022-07-22T18:14:15.299Z"
   },
   {
    "duration": 5,
    "start_time": "2022-07-22T18:14:15.310Z"
   },
   {
    "duration": 4,
    "start_time": "2022-07-22T18:14:15.317Z"
   },
   {
    "duration": 10,
    "start_time": "2022-07-22T18:14:15.322Z"
   },
   {
    "duration": 7,
    "start_time": "2022-07-22T18:14:15.334Z"
   },
   {
    "duration": 77673,
    "start_time": "2022-07-22T18:14:15.343Z"
   },
   {
    "duration": 6,
    "start_time": "2022-07-22T18:15:33.017Z"
   },
   {
    "duration": 1347,
    "start_time": "2022-07-22T18:16:55.919Z"
   },
   {
    "duration": 838,
    "start_time": "2022-07-22T18:16:57.268Z"
   },
   {
    "duration": 27,
    "start_time": "2022-07-22T18:16:58.107Z"
   },
   {
    "duration": 18,
    "start_time": "2022-07-22T18:16:58.135Z"
   },
   {
    "duration": 2,
    "start_time": "2022-07-22T18:16:58.160Z"
   },
   {
    "duration": 6,
    "start_time": "2022-07-22T18:16:58.163Z"
   },
   {
    "duration": 7,
    "start_time": "2022-07-22T18:16:58.170Z"
   },
   {
    "duration": 10,
    "start_time": "2022-07-22T18:16:58.179Z"
   },
   {
    "duration": 8,
    "start_time": "2022-07-22T18:16:58.191Z"
   },
   {
    "duration": 6,
    "start_time": "2022-07-22T18:16:58.200Z"
   },
   {
    "duration": 18039,
    "start_time": "2022-07-22T18:16:58.207Z"
   },
   {
    "duration": 0,
    "start_time": "2022-07-22T18:17:16.249Z"
   },
   {
    "duration": 1232,
    "start_time": "2022-07-22T18:21:36.996Z"
   },
   {
    "duration": 852,
    "start_time": "2022-07-22T18:21:38.230Z"
   },
   {
    "duration": 28,
    "start_time": "2022-07-22T18:21:39.084Z"
   },
   {
    "duration": 13,
    "start_time": "2022-07-22T18:21:39.114Z"
   },
   {
    "duration": 22,
    "start_time": "2022-07-22T18:21:39.128Z"
   },
   {
    "duration": 10,
    "start_time": "2022-07-22T18:21:39.152Z"
   },
   {
    "duration": 21,
    "start_time": "2022-07-22T18:21:39.163Z"
   },
   {
    "duration": 24,
    "start_time": "2022-07-22T18:21:39.185Z"
   },
   {
    "duration": 30,
    "start_time": "2022-07-22T18:21:39.211Z"
   },
   {
    "duration": 15,
    "start_time": "2022-07-22T18:21:39.243Z"
   },
   {
    "duration": 438,
    "start_time": "2022-07-22T18:21:39.260Z"
   },
   {
    "duration": 0,
    "start_time": "2022-07-22T18:21:39.700Z"
   },
   {
    "duration": 6,
    "start_time": "2022-07-22T18:22:03.152Z"
   },
   {
    "duration": 102956,
    "start_time": "2022-07-22T18:22:05.053Z"
   },
   {
    "duration": 6,
    "start_time": "2022-07-22T18:24:01.734Z"
   },
   {
    "duration": 1308,
    "start_time": "2022-07-24T10:32:30.240Z"
   },
   {
    "duration": 2514,
    "start_time": "2022-07-24T10:32:31.550Z"
   },
   {
    "duration": 33,
    "start_time": "2022-07-24T10:32:34.065Z"
   },
   {
    "duration": 9,
    "start_time": "2022-07-24T10:32:34.100Z"
   },
   {
    "duration": 2,
    "start_time": "2022-07-24T10:32:34.111Z"
   },
   {
    "duration": 9,
    "start_time": "2022-07-24T10:32:34.115Z"
   },
   {
    "duration": 18,
    "start_time": "2022-07-24T10:32:34.125Z"
   },
   {
    "duration": 5,
    "start_time": "2022-07-24T10:32:34.145Z"
   },
   {
    "duration": 5,
    "start_time": "2022-07-24T10:32:34.151Z"
   },
   {
    "duration": 4,
    "start_time": "2022-07-24T10:32:34.157Z"
   },
   {
    "duration": 92082,
    "start_time": "2022-07-24T10:32:34.163Z"
   },
   {
    "duration": 6,
    "start_time": "2022-07-24T10:34:06.248Z"
   },
   {
    "duration": 1394,
    "start_time": "2022-07-24T10:36:05.212Z"
   },
   {
    "duration": 840,
    "start_time": "2022-07-24T10:36:06.608Z"
   },
   {
    "duration": 30,
    "start_time": "2022-07-24T10:36:07.449Z"
   },
   {
    "duration": 9,
    "start_time": "2022-07-24T10:36:07.480Z"
   },
   {
    "duration": 5,
    "start_time": "2022-07-24T10:36:07.491Z"
   },
   {
    "duration": 7,
    "start_time": "2022-07-24T10:36:07.497Z"
   },
   {
    "duration": 92309,
    "start_time": "2022-07-24T10:36:07.523Z"
   },
   {
    "duration": 6,
    "start_time": "2022-07-24T10:37:39.834Z"
   },
   {
    "duration": 122,
    "start_time": "2022-07-24T10:41:06.205Z"
   },
   {
    "duration": 13,
    "start_time": "2022-07-24T10:41:28.914Z"
   },
   {
    "duration": 6,
    "start_time": "2022-07-24T10:42:11.521Z"
   },
   {
    "duration": 24,
    "start_time": "2022-07-24T10:42:14.539Z"
   },
   {
    "duration": 5522,
    "start_time": "2022-07-24T10:42:15.314Z"
   },
   {
    "duration": 1426,
    "start_time": "2022-07-24T10:42:43.343Z"
   },
   {
    "duration": 5382,
    "start_time": "2022-07-24T10:43:42.057Z"
   },
   {
    "duration": 1322,
    "start_time": "2022-07-24T10:43:51.942Z"
   },
   {
    "duration": 12,
    "start_time": "2022-07-24T10:52:10.446Z"
   },
   {
    "duration": 21,
    "start_time": "2022-07-24T10:52:26.574Z"
   },
   {
    "duration": 673,
    "start_time": "2022-07-24T10:52:29.442Z"
   },
   {
    "duration": 4,
    "start_time": "2022-07-24T10:52:43.491Z"
   },
   {
    "duration": 1376655,
    "start_time": "2022-07-24T10:52:45.803Z"
   },
   {
    "duration": 1315,
    "start_time": "2022-07-24T11:17:48.966Z"
   },
   {
    "duration": 814,
    "start_time": "2022-07-24T11:17:50.283Z"
   },
   {
    "duration": 38,
    "start_time": "2022-07-24T11:17:51.098Z"
   },
   {
    "duration": 10,
    "start_time": "2022-07-24T11:17:51.138Z"
   },
   {
    "duration": 7,
    "start_time": "2022-07-24T11:17:51.150Z"
   },
   {
    "duration": 6,
    "start_time": "2022-07-24T11:17:51.160Z"
   },
   {
    "duration": 100255,
    "start_time": "2022-07-24T11:17:51.168Z"
   },
   {
    "duration": 28,
    "start_time": "2022-07-24T11:19:31.425Z"
   },
   {
    "duration": 5489,
    "start_time": "2022-07-24T11:19:31.455Z"
   },
   {
    "duration": 0,
    "start_time": "2022-07-24T11:19:36.946Z"
   },
   {
    "duration": 0,
    "start_time": "2022-07-24T11:19:36.948Z"
   },
   {
    "duration": 5509,
    "start_time": "2022-07-24T11:20:11.166Z"
   },
   {
    "duration": 1327,
    "start_time": "2022-07-24T11:20:17.585Z"
   },
   {
    "duration": 94187514,
    "start_time": "2022-07-24T11:20:22.280Z"
   },
   {
    "duration": 1621,
    "start_time": "2022-07-25T13:31:45.939Z"
   },
   {
    "duration": 992,
    "start_time": "2022-07-25T13:31:47.563Z"
   },
   {
    "duration": 46,
    "start_time": "2022-07-25T13:31:48.557Z"
   },
   {
    "duration": 34,
    "start_time": "2022-07-25T13:31:48.606Z"
   },
   {
    "duration": 16,
    "start_time": "2022-07-25T13:31:48.643Z"
   },
   {
    "duration": 13,
    "start_time": "2022-07-25T13:31:48.661Z"
   },
   {
    "duration": 119032,
    "start_time": "2022-07-25T13:31:48.677Z"
   },
   {
    "duration": 46,
    "start_time": "2022-07-25T13:33:47.711Z"
   },
   {
    "duration": 6917,
    "start_time": "2022-07-25T13:33:47.759Z"
   },
   {
    "duration": 1650,
    "start_time": "2022-07-25T13:33:54.678Z"
   },
   {
    "duration": 12,
    "start_time": "2022-07-25T13:33:56.330Z"
   },
   {
    "duration": 164614,
    "start_time": "2022-07-25T13:33:56.344Z"
   },
   {
    "duration": 7,
    "start_time": "2022-07-25T13:37:13.127Z"
   },
   {
    "duration": 1675,
    "start_time": "2022-07-25T13:37:28.367Z"
   },
   {
    "duration": 968,
    "start_time": "2022-07-25T13:37:30.045Z"
   },
   {
    "duration": 47,
    "start_time": "2022-07-25T13:37:31.014Z"
   },
   {
    "duration": 101,
    "start_time": "2022-07-25T13:37:31.064Z"
   },
   {
    "duration": 37,
    "start_time": "2022-07-25T13:37:31.167Z"
   },
   {
    "duration": 55,
    "start_time": "2022-07-25T13:37:31.205Z"
   },
   {
    "duration": 109567,
    "start_time": "2022-07-25T13:37:31.262Z"
   },
   {
    "duration": 28,
    "start_time": "2022-07-25T13:39:20.832Z"
   },
   {
    "duration": 6029,
    "start_time": "2022-07-25T13:39:20.862Z"
   },
   {
    "duration": 1406,
    "start_time": "2022-07-25T13:39:26.895Z"
   },
   {
    "duration": 4,
    "start_time": "2022-07-25T13:39:28.303Z"
   },
   {
    "duration": 139773,
    "start_time": "2022-07-25T13:39:28.309Z"
   },
   {
    "duration": 1503,
    "start_time": "2022-07-25T13:42:16.060Z"
   },
   {
    "duration": 876,
    "start_time": "2022-07-25T13:42:17.565Z"
   },
   {
    "duration": 37,
    "start_time": "2022-07-25T13:42:18.442Z"
   },
   {
    "duration": 11,
    "start_time": "2022-07-25T13:42:18.481Z"
   },
   {
    "duration": 28,
    "start_time": "2022-07-25T13:42:18.495Z"
   },
   {
    "duration": 7,
    "start_time": "2022-07-25T13:42:18.525Z"
   },
   {
    "duration": 101445,
    "start_time": "2022-07-25T13:42:18.533Z"
   },
   {
    "duration": 46,
    "start_time": "2022-07-25T13:43:59.979Z"
   },
   {
    "duration": 6077,
    "start_time": "2022-07-25T13:44:00.027Z"
   },
   {
    "duration": 1433,
    "start_time": "2022-07-25T13:44:06.106Z"
   },
   {
    "duration": 3,
    "start_time": "2022-07-25T13:44:07.541Z"
   },
   {
    "duration": 393613,
    "start_time": "2022-07-25T13:44:07.546Z"
   },
   {
    "duration": 392,
    "start_time": "2022-07-25T13:53:10.291Z"
   },
   {
    "duration": 1364,
    "start_time": "2022-07-25T13:54:22.780Z"
   },
   {
    "duration": 877,
    "start_time": "2022-07-25T13:54:24.146Z"
   },
   {
    "duration": 36,
    "start_time": "2022-07-25T13:54:25.025Z"
   },
   {
    "duration": 11,
    "start_time": "2022-07-25T13:54:25.063Z"
   },
   {
    "duration": 8,
    "start_time": "2022-07-25T13:54:25.077Z"
   },
   {
    "duration": 7,
    "start_time": "2022-07-25T13:54:25.087Z"
   },
   {
    "duration": 100703,
    "start_time": "2022-07-25T13:54:25.096Z"
   },
   {
    "duration": 43,
    "start_time": "2022-07-25T13:56:05.801Z"
   },
   {
    "duration": 6174,
    "start_time": "2022-07-25T13:56:05.846Z"
   },
   {
    "duration": 1442,
    "start_time": "2022-07-25T13:56:12.024Z"
   },
   {
    "duration": 3,
    "start_time": "2022-07-25T13:56:13.468Z"
   },
   {
    "duration": 532397,
    "start_time": "2022-07-25T13:56:13.473Z"
   },
   {
    "duration": 434,
    "start_time": "2022-07-25T14:05:05.872Z"
   },
   {
    "duration": 1350,
    "start_time": "2022-07-25T14:54:39.373Z"
   },
   {
    "duration": 874,
    "start_time": "2022-07-25T14:54:40.725Z"
   },
   {
    "duration": 37,
    "start_time": "2022-07-25T14:54:41.601Z"
   },
   {
    "duration": 10,
    "start_time": "2022-07-25T14:54:41.640Z"
   },
   {
    "duration": 13,
    "start_time": "2022-07-25T14:54:41.653Z"
   },
   {
    "duration": 10,
    "start_time": "2022-07-25T14:54:41.668Z"
   },
   {
    "duration": 100548,
    "start_time": "2022-07-25T14:54:41.679Z"
   },
   {
    "duration": 28,
    "start_time": "2022-07-25T14:56:22.229Z"
   },
   {
    "duration": 5780,
    "start_time": "2022-07-25T14:56:22.259Z"
   },
   {
    "duration": 1407,
    "start_time": "2022-07-25T14:56:28.041Z"
   },
   {
    "duration": 5,
    "start_time": "2022-07-25T14:56:29.450Z"
   },
   {
    "duration": 13,
    "start_time": "2022-07-25T14:56:29.456Z"
   },
   {
    "duration": 2153847,
    "start_time": "2022-07-25T14:56:29.471Z"
   },
   {
    "duration": 410,
    "start_time": "2022-07-25T15:32:23.321Z"
   },
   {
    "duration": 1462,
    "start_time": "2022-07-25T15:37:34.637Z"
   },
   {
    "duration": 898,
    "start_time": "2022-07-25T15:37:36.101Z"
   },
   {
    "duration": 39,
    "start_time": "2022-07-25T15:37:37.001Z"
   },
   {
    "duration": 19,
    "start_time": "2022-07-25T15:37:37.043Z"
   },
   {
    "duration": 14,
    "start_time": "2022-07-25T15:37:37.064Z"
   },
   {
    "duration": 21,
    "start_time": "2022-07-25T15:37:37.080Z"
   },
   {
    "duration": 98798,
    "start_time": "2022-07-25T15:37:37.102Z"
   },
   {
    "duration": 56,
    "start_time": "2022-07-25T15:39:15.901Z"
   },
   {
    "duration": 4359,
    "start_time": "2022-07-25T15:39:15.960Z"
   },
   {
    "duration": 1351,
    "start_time": "2022-07-25T15:39:20.324Z"
   },
   {
    "duration": 125,
    "start_time": "2022-07-25T15:39:21.677Z"
   },
   {
    "duration": 43,
    "start_time": "2022-07-25T15:39:44.238Z"
   },
   {
    "duration": 4853,
    "start_time": "2022-07-25T15:39:45.034Z"
   },
   {
    "duration": 1473,
    "start_time": "2022-07-25T15:39:53.552Z"
   },
   {
    "duration": 1490,
    "start_time": "2022-07-25T15:39:56.235Z"
   },
   {
    "duration": 4,
    "start_time": "2022-07-25T15:42:20.446Z"
   },
   {
    "duration": 142,
    "start_time": "2022-07-25T15:43:31.338Z"
   },
   {
    "duration": 5,
    "start_time": "2022-07-25T15:43:53.953Z"
   },
   {
    "duration": 1782290,
    "start_time": "2022-07-25T15:43:55.844Z"
   },
   {
    "duration": 452,
    "start_time": "2022-07-25T16:14:49.019Z"
   },
   {
    "duration": 79,
    "start_time": "2022-07-25T16:15:32.886Z"
   },
   {
    "duration": 489279,
    "start_time": "2022-07-25T16:17:06.874Z"
   },
   {
    "duration": 10,
    "start_time": "2022-07-25T16:28:39.456Z"
   },
   {
    "duration": 40440,
    "start_time": "2022-07-25T16:30:14.336Z"
   },
   {
    "duration": 1470,
    "start_time": "2022-07-25T16:36:19.882Z"
   },
   {
    "duration": 864,
    "start_time": "2022-07-25T16:36:21.354Z"
   },
   {
    "duration": 36,
    "start_time": "2022-07-25T16:36:22.219Z"
   },
   {
    "duration": 12,
    "start_time": "2022-07-25T16:36:22.256Z"
   },
   {
    "duration": 5,
    "start_time": "2022-07-25T16:36:22.270Z"
   },
   {
    "duration": 5,
    "start_time": "2022-07-25T16:36:22.277Z"
   },
   {
    "duration": 101568,
    "start_time": "2022-07-25T16:36:22.284Z"
   },
   {
    "duration": 147,
    "start_time": "2022-07-25T16:38:03.854Z"
   },
   {
    "duration": 0,
    "start_time": "2022-07-25T16:38:04.003Z"
   },
   {
    "duration": 0,
    "start_time": "2022-07-25T16:38:04.005Z"
   },
   {
    "duration": 0,
    "start_time": "2022-07-25T16:38:04.006Z"
   },
   {
    "duration": 0,
    "start_time": "2022-07-25T16:38:04.007Z"
   },
   {
    "duration": 0,
    "start_time": "2022-07-25T16:38:04.007Z"
   },
   {
    "duration": 0,
    "start_time": "2022-07-25T16:38:04.009Z"
   },
   {
    "duration": 0,
    "start_time": "2022-07-25T16:38:04.023Z"
   },
   {
    "duration": 0,
    "start_time": "2022-07-25T16:38:04.024Z"
   },
   {
    "duration": 1,
    "start_time": "2022-07-25T16:38:04.025Z"
   },
   {
    "duration": 0,
    "start_time": "2022-07-25T16:38:04.027Z"
   },
   {
    "duration": 3,
    "start_time": "2022-07-25T16:41:09.998Z"
   },
   {
    "duration": 110,
    "start_time": "2022-07-25T16:41:11.448Z"
   },
   {
    "duration": 4577,
    "start_time": "2022-07-25T16:41:15.658Z"
   },
   {
    "duration": 1476,
    "start_time": "2022-07-25T16:41:21.391Z"
   },
   {
    "duration": 1433,
    "start_time": "2022-07-25T16:41:23.703Z"
   },
   {
    "duration": 5,
    "start_time": "2022-07-25T16:41:27.552Z"
   },
   {
    "duration": 1865,
    "start_time": "2022-07-25T16:41:29.050Z"
   },
   {
    "duration": 423803,
    "start_time": "2022-07-25T16:42:07.984Z"
   },
   {
    "duration": 1192654,
    "start_time": "2022-07-25T16:49:19.073Z"
   },
   {
    "duration": 45547,
    "start_time": "2022-07-25T17:09:44.934Z"
   },
   {
    "duration": 9,
    "start_time": "2022-07-25T17:58:32.902Z"
   },
   {
    "duration": 1161496,
    "start_time": "2022-07-25T18:02:31.866Z"
   },
   {
    "duration": 10,
    "start_time": "2022-07-25T18:22:42.170Z"
   },
   {
    "duration": 2794,
    "start_time": "2022-07-25T18:25:44.197Z"
   },
   {
    "duration": 2838,
    "start_time": "2022-07-25T18:25:46.994Z"
   },
   {
    "duration": 37,
    "start_time": "2022-07-25T18:25:49.834Z"
   },
   {
    "duration": 7,
    "start_time": "2022-07-25T18:25:49.874Z"
   },
   {
    "duration": 6,
    "start_time": "2022-07-25T18:25:49.884Z"
   },
   {
    "duration": 104031,
    "start_time": "2022-07-25T18:25:49.892Z"
   },
   {
    "duration": 3,
    "start_time": "2022-07-25T18:27:33.925Z"
   },
   {
    "duration": 130,
    "start_time": "2022-07-25T18:27:33.930Z"
   },
   {
    "duration": 4712,
    "start_time": "2022-07-25T18:27:34.062Z"
   },
   {
    "duration": 1564,
    "start_time": "2022-07-25T18:27:38.777Z"
   },
   {
    "duration": 1475,
    "start_time": "2022-07-25T18:27:40.343Z"
   },
   {
    "duration": 5,
    "start_time": "2022-07-25T18:27:41.819Z"
   },
   {
    "duration": 213,
    "start_time": "2022-07-25T18:27:41.827Z"
   },
   {
    "duration": 1478,
    "start_time": "2022-07-25T18:33:05.662Z"
   },
   {
    "duration": 902,
    "start_time": "2022-07-25T18:33:07.142Z"
   },
   {
    "duration": 34,
    "start_time": "2022-07-25T18:33:08.046Z"
   },
   {
    "duration": 15,
    "start_time": "2022-07-25T18:33:08.083Z"
   },
   {
    "duration": 7,
    "start_time": "2022-07-25T18:33:08.100Z"
   },
   {
    "duration": 99814,
    "start_time": "2022-07-25T18:33:08.109Z"
   },
   {
    "duration": 3,
    "start_time": "2022-07-25T18:34:47.925Z"
   },
   {
    "duration": 112,
    "start_time": "2022-07-25T18:34:47.930Z"
   },
   {
    "duration": 4376,
    "start_time": "2022-07-25T18:34:48.044Z"
   },
   {
    "duration": 1328,
    "start_time": "2022-07-25T18:34:52.424Z"
   },
   {
    "duration": 1334,
    "start_time": "2022-07-25T18:34:53.755Z"
   },
   {
    "duration": 6,
    "start_time": "2022-07-25T18:34:55.091Z"
   },
   {
    "duration": 2784,
    "start_time": "2022-07-25T18:37:16.901Z"
   },
   {
    "duration": 2424,
    "start_time": "2022-07-25T18:37:19.687Z"
   },
   {
    "duration": 37,
    "start_time": "2022-07-25T18:37:22.114Z"
   },
   {
    "duration": 3,
    "start_time": "2022-07-25T18:37:22.154Z"
   },
   {
    "duration": 11,
    "start_time": "2022-07-25T18:37:22.160Z"
   },
   {
    "duration": 99503,
    "start_time": "2022-07-25T18:37:22.173Z"
   },
   {
    "duration": 3,
    "start_time": "2022-07-25T18:39:01.678Z"
   },
   {
    "duration": 138,
    "start_time": "2022-07-25T18:39:01.683Z"
   },
   {
    "duration": 4527,
    "start_time": "2022-07-25T18:39:01.824Z"
   },
   {
    "duration": 1439,
    "start_time": "2022-07-25T18:39:06.353Z"
   },
   {
    "duration": 1595,
    "start_time": "2022-07-25T18:39:07.794Z"
   },
   {
    "duration": 4,
    "start_time": "2022-07-25T18:39:09.391Z"
   },
   {
    "duration": 432872,
    "start_time": "2022-07-25T18:39:09.398Z"
   },
   {
    "duration": 772192,
    "start_time": "2022-07-25T18:46:22.273Z"
   },
   {
    "duration": 44425,
    "start_time": "2022-07-25T18:59:14.470Z"
   },
   {
    "duration": 20,
    "start_time": "2022-07-25T18:59:58.926Z"
   },
   {
    "duration": 12957,
    "start_time": "2022-07-25T19:19:01.740Z"
   },
   {
    "duration": 12,
    "start_time": "2022-07-25T19:19:29.116Z"
   },
   {
    "duration": 1511,
    "start_time": "2022-07-25T19:20:21.406Z"
   },
   {
    "duration": 875,
    "start_time": "2022-07-25T19:20:22.919Z"
   },
   {
    "duration": 48,
    "start_time": "2022-07-25T19:20:23.798Z"
   },
   {
    "duration": 2,
    "start_time": "2022-07-25T19:20:23.849Z"
   },
   {
    "duration": 7,
    "start_time": "2022-07-25T19:20:23.853Z"
   },
   {
    "duration": 106006,
    "start_time": "2022-07-25T19:20:23.862Z"
   },
   {
    "duration": 4,
    "start_time": "2022-07-25T19:22:09.870Z"
   },
   {
    "duration": 129,
    "start_time": "2022-07-25T19:22:09.875Z"
   },
   {
    "duration": 4734,
    "start_time": "2022-07-25T19:22:10.006Z"
   },
   {
    "duration": 1503,
    "start_time": "2022-07-25T19:22:14.742Z"
   },
   {
    "duration": 1531,
    "start_time": "2022-07-25T19:22:16.247Z"
   },
   {
    "duration": 5,
    "start_time": "2022-07-25T19:22:17.780Z"
   },
   {
    "duration": 436901,
    "start_time": "2022-07-25T19:22:17.787Z"
   },
   {
    "duration": 1157836,
    "start_time": "2022-07-25T19:29:34.689Z"
   },
   {
    "duration": 14051,
    "start_time": "2022-07-25T19:48:52.529Z"
   },
   {
    "duration": 14,
    "start_time": "2022-07-25T19:49:06.582Z"
   },
   {
    "duration": 66,
    "start_time": "2022-07-25T19:49:06.598Z"
   },
   {
    "duration": 1878,
    "start_time": "2022-07-25T19:49:51.268Z"
   },
   {
    "duration": 1906,
    "start_time": "2022-07-25T19:50:48.545Z"
   },
   {
    "duration": 434020,
    "start_time": "2022-07-25T19:51:59.164Z"
   },
   {
    "duration": 230912,
    "start_time": "2022-07-25T20:00:21.856Z"
   },
   {
    "duration": 1592,
    "start_time": "2022-07-25T20:10:24.201Z"
   },
   {
    "duration": 962,
    "start_time": "2022-07-25T20:10:25.795Z"
   },
   {
    "duration": 37,
    "start_time": "2022-07-25T20:10:26.759Z"
   },
   {
    "duration": 49,
    "start_time": "2022-07-25T20:10:26.798Z"
   },
   {
    "duration": 5,
    "start_time": "2022-07-25T20:10:26.852Z"
   },
   {
    "duration": 16,
    "start_time": "2022-07-25T20:10:26.859Z"
   },
   {
    "duration": 37580,
    "start_time": "2022-07-25T20:10:26.878Z"
   },
   {
    "duration": 4,
    "start_time": "2022-07-25T20:11:04.460Z"
   },
   {
    "duration": 69,
    "start_time": "2022-07-25T20:11:04.466Z"
   },
   {
    "duration": 2132,
    "start_time": "2022-07-25T20:11:04.538Z"
   },
   {
    "duration": 252,
    "start_time": "2022-07-25T20:11:06.672Z"
   },
   {
    "duration": 251,
    "start_time": "2022-07-25T20:11:06.926Z"
   },
   {
    "duration": 5,
    "start_time": "2022-07-25T20:11:07.179Z"
   },
   {
    "duration": 233983,
    "start_time": "2022-07-25T20:11:07.187Z"
   },
   {
    "duration": 839769,
    "start_time": "2022-07-25T20:15:01.173Z"
   },
   {
    "duration": 4291,
    "start_time": "2022-07-25T20:29:00.950Z"
   },
   {
    "duration": 22,
    "start_time": "2022-07-25T20:29:05.244Z"
   },
   {
    "duration": 239834,
    "start_time": "2022-07-25T20:29:05.268Z"
   },
   {
    "duration": 1776,
    "start_time": "2022-07-25T21:46:15.660Z"
   },
   {
    "duration": 2600,
    "start_time": "2022-07-25T21:46:17.440Z"
   },
   {
    "duration": 33,
    "start_time": "2022-07-25T21:46:20.042Z"
   },
   {
    "duration": 2,
    "start_time": "2022-07-25T21:46:20.077Z"
   },
   {
    "duration": 6,
    "start_time": "2022-07-25T21:46:20.082Z"
   },
   {
    "duration": 9,
    "start_time": "2022-07-25T21:46:20.090Z"
   },
   {
    "duration": 95973,
    "start_time": "2022-07-25T21:46:20.100Z"
   },
   {
    "duration": 3,
    "start_time": "2022-07-25T21:47:56.075Z"
   },
   {
    "duration": 99,
    "start_time": "2022-07-25T21:47:56.079Z"
   },
   {
    "duration": 4552,
    "start_time": "2022-07-25T21:47:56.180Z"
   },
   {
    "duration": 1434,
    "start_time": "2022-07-25T21:48:00.735Z"
   },
   {
    "duration": 1418,
    "start_time": "2022-07-25T21:48:02.171Z"
   },
   {
    "duration": 4,
    "start_time": "2022-07-25T21:48:03.591Z"
   },
   {
    "duration": 399907,
    "start_time": "2022-07-25T21:48:03.598Z"
   },
   {
    "duration": 15,
    "start_time": "2022-07-25T21:54:56.948Z"
   },
   {
    "duration": 1409,
    "start_time": "2022-07-25T22:03:36.756Z"
   },
   {
    "duration": 887,
    "start_time": "2022-07-25T22:03:38.167Z"
   },
   {
    "duration": 38,
    "start_time": "2022-07-25T22:03:39.056Z"
   },
   {
    "duration": 3,
    "start_time": "2022-07-25T22:03:39.096Z"
   },
   {
    "duration": 4,
    "start_time": "2022-07-25T22:03:39.101Z"
   },
   {
    "duration": 4,
    "start_time": "2022-07-25T22:03:39.123Z"
   },
   {
    "duration": 95354,
    "start_time": "2022-07-25T22:03:39.129Z"
   },
   {
    "duration": 4,
    "start_time": "2022-07-25T22:05:14.486Z"
   },
   {
    "duration": 93,
    "start_time": "2022-07-25T22:05:14.492Z"
   },
   {
    "duration": 5733,
    "start_time": "2022-07-25T22:05:14.586Z"
   },
   {
    "duration": 686,
    "start_time": "2022-07-25T22:05:20.323Z"
   },
   {
    "duration": 696,
    "start_time": "2022-07-25T22:05:21.011Z"
   },
   {
    "duration": 5,
    "start_time": "2022-07-25T22:05:21.709Z"
   },
   {
    "duration": 513608,
    "start_time": "2022-07-25T22:05:21.723Z"
   },
   {
    "duration": 17,
    "start_time": "2022-07-25T22:13:55.333Z"
   },
   {
    "duration": 273,
    "start_time": "2022-07-25T22:13:55.352Z"
   },
   {
    "duration": 1455,
    "start_time": "2022-07-25T22:14:41.827Z"
   },
   {
    "duration": 842,
    "start_time": "2022-07-25T22:14:43.285Z"
   },
   {
    "duration": 34,
    "start_time": "2022-07-25T22:14:44.129Z"
   },
   {
    "duration": 2,
    "start_time": "2022-07-25T22:14:44.165Z"
   },
   {
    "duration": 5,
    "start_time": "2022-07-25T22:14:44.169Z"
   },
   {
    "duration": 9,
    "start_time": "2022-07-25T22:14:44.175Z"
   },
   {
    "duration": 91551,
    "start_time": "2022-07-25T22:14:44.186Z"
   },
   {
    "duration": 3,
    "start_time": "2022-07-25T22:16:15.738Z"
   },
   {
    "duration": 37,
    "start_time": "2022-07-25T22:16:15.743Z"
   },
   {
    "duration": 5541,
    "start_time": "2022-07-25T22:16:15.782Z"
   },
   {
    "duration": 650,
    "start_time": "2022-07-25T22:16:21.325Z"
   },
   {
    "duration": 657,
    "start_time": "2022-07-25T22:16:21.977Z"
   },
   {
    "duration": 5,
    "start_time": "2022-07-25T22:16:22.635Z"
   },
   {
    "duration": 516569,
    "start_time": "2022-07-25T22:16:22.642Z"
   },
   {
    "duration": 22,
    "start_time": "2022-07-25T22:24:59.213Z"
   },
   {
    "duration": 271,
    "start_time": "2022-07-25T22:24:59.237Z"
   },
   {
    "duration": 1427,
    "start_time": "2022-07-25T22:29:04.755Z"
   },
   {
    "duration": 847,
    "start_time": "2022-07-25T22:29:06.184Z"
   },
   {
    "duration": 33,
    "start_time": "2022-07-25T22:29:07.033Z"
   },
   {
    "duration": 2,
    "start_time": "2022-07-25T22:29:07.069Z"
   },
   {
    "duration": 10,
    "start_time": "2022-07-25T22:29:07.073Z"
   },
   {
    "duration": 7,
    "start_time": "2022-07-25T22:29:07.086Z"
   },
   {
    "duration": 91813,
    "start_time": "2022-07-25T22:29:07.094Z"
   },
   {
    "duration": 15,
    "start_time": "2022-07-25T22:30:38.909Z"
   },
   {
    "duration": 49,
    "start_time": "2022-07-25T22:30:38.926Z"
   },
   {
    "duration": 4171,
    "start_time": "2022-07-25T22:30:38.978Z"
   },
   {
    "duration": 1304,
    "start_time": "2022-07-25T22:30:43.152Z"
   },
   {
    "duration": 1293,
    "start_time": "2022-07-25T22:30:44.457Z"
   },
   {
    "duration": 4,
    "start_time": "2022-07-25T22:30:45.752Z"
   },
   {
    "duration": 396451,
    "start_time": "2022-07-25T22:30:45.758Z"
   },
   {
    "duration": 113552,
    "start_time": "2022-07-25T22:37:22.211Z"
   },
   {
    "duration": 13515,
    "start_time": "2022-07-25T22:39:15.767Z"
   },
   {
    "duration": 14,
    "start_time": "2022-07-25T22:39:29.284Z"
   },
   {
    "duration": 377,
    "start_time": "2022-07-25T22:39:29.299Z"
   },
   {
    "duration": 15318,
    "start_time": "2022-07-25T22:47:45.765Z"
   },
   {
    "duration": 8,
    "start_time": "2022-07-25T22:48:39.161Z"
   },
   {
    "duration": 31593,
    "start_time": "2022-07-25T22:54:40.789Z"
   },
   {
    "duration": 8,
    "start_time": "2022-07-25T22:55:30.296Z"
   },
   {
    "duration": 32027,
    "start_time": "2022-07-25T22:56:52.415Z"
   },
   {
    "duration": 6,
    "start_time": "2022-07-25T23:00:32.778Z"
   },
   {
    "duration": 1520,
    "start_time": "2022-07-25T23:07:10.408Z"
   },
   {
    "duration": 871,
    "start_time": "2022-07-25T23:07:11.930Z"
   },
   {
    "duration": 42,
    "start_time": "2022-07-25T23:07:12.805Z"
   },
   {
    "duration": 11,
    "start_time": "2022-07-25T23:07:12.849Z"
   },
   {
    "duration": 3,
    "start_time": "2022-07-25T23:07:12.862Z"
   },
   {
    "duration": 5,
    "start_time": "2022-07-25T23:07:12.867Z"
   },
   {
    "duration": 96189,
    "start_time": "2022-07-25T23:07:12.873Z"
   },
   {
    "duration": 3,
    "start_time": "2022-07-25T23:08:49.064Z"
   },
   {
    "duration": 37,
    "start_time": "2022-07-25T23:08:49.069Z"
   },
   {
    "duration": 4363,
    "start_time": "2022-07-25T23:08:49.108Z"
   },
   {
    "duration": 1293,
    "start_time": "2022-07-25T23:08:53.472Z"
   },
   {
    "duration": 1325,
    "start_time": "2022-07-25T23:08:54.767Z"
   },
   {
    "duration": 5,
    "start_time": "2022-07-25T23:08:56.095Z"
   },
   {
    "duration": 13,
    "start_time": "2022-07-25T23:08:56.101Z"
   },
   {
    "duration": 53428,
    "start_time": "2022-07-25T23:08:56.123Z"
   },
   {
    "duration": 1457,
    "start_time": "2022-07-25T23:10:36.601Z"
   },
   {
    "duration": 846,
    "start_time": "2022-07-25T23:10:38.060Z"
   },
   {
    "duration": 46,
    "start_time": "2022-07-25T23:10:38.908Z"
   },
   {
    "duration": 22,
    "start_time": "2022-07-25T23:10:38.956Z"
   },
   {
    "duration": 3,
    "start_time": "2022-07-25T23:10:38.981Z"
   },
   {
    "duration": 6,
    "start_time": "2022-07-25T23:10:38.985Z"
   },
   {
    "duration": 92872,
    "start_time": "2022-07-25T23:10:38.993Z"
   },
   {
    "duration": 3,
    "start_time": "2022-07-25T23:12:11.867Z"
   },
   {
    "duration": 51,
    "start_time": "2022-07-25T23:12:11.872Z"
   },
   {
    "duration": 4140,
    "start_time": "2022-07-25T23:12:11.925Z"
   },
   {
    "duration": 1270,
    "start_time": "2022-07-25T23:12:16.067Z"
   },
   {
    "duration": 1281,
    "start_time": "2022-07-25T23:12:17.338Z"
   },
   {
    "duration": 5,
    "start_time": "2022-07-25T23:12:18.622Z"
   },
   {
    "duration": 9,
    "start_time": "2022-07-25T23:12:18.630Z"
   },
   {
    "duration": 397547,
    "start_time": "2022-07-25T23:12:18.640Z"
   },
   {
    "duration": 717648,
    "start_time": "2022-07-25T23:18:56.189Z"
   },
   {
    "duration": 179,
    "start_time": "2022-07-25T23:30:53.841Z"
   },
   {
    "duration": 10,
    "start_time": "2022-07-25T23:30:54.022Z"
   },
   {
    "duration": 11,
    "start_time": "2022-07-25T23:30:54.034Z"
   },
   {
    "duration": 31685,
    "start_time": "2022-07-25T23:31:38.394Z"
   },
   {
    "duration": 8,
    "start_time": "2022-07-25T23:32:13.367Z"
   },
   {
    "duration": 16,
    "start_time": "2022-07-25T23:34:47.243Z"
   },
   {
    "duration": 12,
    "start_time": "2022-07-26T04:54:00.508Z"
   },
   {
    "duration": 1825,
    "start_time": "2022-07-26T04:57:19.526Z"
   },
   {
    "duration": 3352,
    "start_time": "2022-07-26T04:57:21.353Z"
   },
   {
    "duration": 33,
    "start_time": "2022-07-26T04:57:24.706Z"
   },
   {
    "duration": 12,
    "start_time": "2022-07-26T04:57:31.523Z"
   },
   {
    "duration": 9,
    "start_time": "2022-07-26T04:57:38.818Z"
   },
   {
    "duration": 2,
    "start_time": "2022-07-26T04:57:45.359Z"
   },
   {
    "duration": 5,
    "start_time": "2022-07-26T04:57:46.525Z"
   },
   {
    "duration": 103296,
    "start_time": "2022-07-26T04:57:54.374Z"
   },
   {
    "duration": 15,
    "start_time": "2022-07-26T05:00:22.376Z"
   },
   {
    "duration": 41,
    "start_time": "2022-07-26T21:04:18.051Z"
   },
   {
    "duration": 1432,
    "start_time": "2022-07-26T21:39:00.501Z"
   },
   {
    "duration": 3036,
    "start_time": "2022-07-26T21:39:01.935Z"
   },
   {
    "duration": 30,
    "start_time": "2022-07-26T21:39:04.972Z"
   },
   {
    "duration": 10,
    "start_time": "2022-07-26T21:39:05.004Z"
   },
   {
    "duration": 7,
    "start_time": "2022-07-26T21:39:05.016Z"
   },
   {
    "duration": 3,
    "start_time": "2022-07-26T21:39:05.031Z"
   },
   {
    "duration": 5,
    "start_time": "2022-07-26T21:39:05.035Z"
   },
   {
    "duration": 78518,
    "start_time": "2022-07-26T21:39:05.042Z"
   },
   {
    "duration": 2,
    "start_time": "2022-07-26T21:40:23.562Z"
   },
   {
    "duration": 31,
    "start_time": "2022-07-26T21:40:23.566Z"
   },
   {
    "duration": 3602,
    "start_time": "2022-07-26T21:40:23.599Z"
   },
   {
    "duration": 1176,
    "start_time": "2022-07-26T21:40:27.203Z"
   },
   {
    "duration": 1134,
    "start_time": "2022-07-26T21:40:28.381Z"
   },
   {
    "duration": 4,
    "start_time": "2022-07-26T21:40:29.516Z"
   },
   {
    "duration": 13,
    "start_time": "2022-07-26T21:40:29.521Z"
   },
   {
    "duration": 4,
    "start_time": "2022-07-26T21:40:29.535Z"
   },
   {
    "duration": 106,
    "start_time": "2022-07-26T21:41:00.939Z"
   },
   {
    "duration": 4,
    "start_time": "2022-07-26T21:41:37.229Z"
   },
   {
    "duration": 10,
    "start_time": "2022-07-26T21:41:41.653Z"
   },
   {
    "duration": 10,
    "start_time": "2022-07-26T21:41:47.134Z"
   },
   {
    "duration": 12,
    "start_time": "2022-07-26T21:41:56.990Z"
   },
   {
    "duration": 4,
    "start_time": "2022-07-26T21:43:43.433Z"
   },
   {
    "duration": 8,
    "start_time": "2022-07-26T21:43:56.248Z"
   },
   {
    "duration": 3,
    "start_time": "2022-07-26T21:45:55.886Z"
   },
   {
    "duration": 4,
    "start_time": "2022-07-26T21:46:21.577Z"
   },
   {
    "duration": 4,
    "start_time": "2022-07-26T21:48:09.096Z"
   },
   {
    "duration": 8,
    "start_time": "2022-07-26T21:48:10.554Z"
   },
   {
    "duration": 3,
    "start_time": "2022-07-26T21:50:43.225Z"
   },
   {
    "duration": 8,
    "start_time": "2022-07-26T21:50:44.917Z"
   },
   {
    "duration": 4,
    "start_time": "2022-07-26T21:51:03.114Z"
   },
   {
    "duration": 8,
    "start_time": "2022-07-26T21:51:04.601Z"
   },
   {
    "duration": 3,
    "start_time": "2022-07-26T21:51:44.813Z"
   },
   {
    "duration": 8,
    "start_time": "2022-07-26T21:51:45.993Z"
   },
   {
    "duration": 298,
    "start_time": "2022-07-26T21:54:26.021Z"
   },
   {
    "duration": 285,
    "start_time": "2022-07-26T21:56:04.082Z"
   },
   {
    "duration": 8656,
    "start_time": "2022-07-26T21:57:13.596Z"
   },
   {
    "duration": 1296,
    "start_time": "2022-07-26T21:58:04.799Z"
   },
   {
    "duration": 719,
    "start_time": "2022-07-26T21:58:06.097Z"
   },
   {
    "duration": 39,
    "start_time": "2022-07-26T21:58:06.817Z"
   },
   {
    "duration": 24,
    "start_time": "2022-07-26T21:58:06.858Z"
   },
   {
    "duration": 9,
    "start_time": "2022-07-26T21:58:06.884Z"
   },
   {
    "duration": 18,
    "start_time": "2022-07-26T21:58:06.894Z"
   },
   {
    "duration": 8,
    "start_time": "2022-07-26T21:58:06.914Z"
   },
   {
    "duration": 10,
    "start_time": "2022-07-26T21:58:06.923Z"
   },
   {
    "duration": 3536,
    "start_time": "2022-07-26T21:58:06.934Z"
   },
   {
    "duration": 2,
    "start_time": "2022-07-26T21:58:10.473Z"
   },
   {
    "duration": 8,
    "start_time": "2022-07-26T21:58:10.477Z"
   },
   {
    "duration": 130,
    "start_time": "2022-07-26T21:58:10.487Z"
   },
   {
    "duration": 38,
    "start_time": "2022-07-26T21:58:10.619Z"
   },
   {
    "duration": 35,
    "start_time": "2022-07-26T21:58:10.658Z"
   },
   {
    "duration": 4,
    "start_time": "2022-07-26T21:58:10.694Z"
   },
   {
    "duration": 5,
    "start_time": "2022-07-26T21:58:10.700Z"
   },
   {
    "duration": 26826,
    "start_time": "2022-07-26T21:58:10.706Z"
   },
   {
    "duration": 19561,
    "start_time": "2022-07-26T21:59:28.716Z"
   },
   {
    "duration": 1758,
    "start_time": "2022-07-26T21:59:50.174Z"
   },
   {
    "duration": 245,
    "start_time": "2022-07-26T21:59:54.990Z"
   },
   {
    "duration": 9,
    "start_time": "2022-07-26T21:59:56.939Z"
   },
   {
    "duration": 1299,
    "start_time": "2022-07-26T22:21:57.612Z"
   },
   {
    "duration": 740,
    "start_time": "2022-07-26T22:21:58.913Z"
   },
   {
    "duration": 30,
    "start_time": "2022-07-26T22:21:59.654Z"
   },
   {
    "duration": 9,
    "start_time": "2022-07-26T22:21:59.686Z"
   },
   {
    "duration": 7,
    "start_time": "2022-07-26T22:21:59.696Z"
   },
   {
    "duration": 12,
    "start_time": "2022-07-26T22:21:59.704Z"
   },
   {
    "duration": 4,
    "start_time": "2022-07-26T22:21:59.730Z"
   },
   {
    "duration": 79380,
    "start_time": "2022-07-26T22:21:59.735Z"
   },
   {
    "duration": 14,
    "start_time": "2022-07-26T22:23:19.117Z"
   },
   {
    "duration": 28,
    "start_time": "2022-07-26T22:23:19.133Z"
   },
   {
    "duration": 3599,
    "start_time": "2022-07-26T22:23:19.162Z"
   },
   {
    "duration": 1166,
    "start_time": "2022-07-26T22:23:22.762Z"
   },
   {
    "duration": 1100,
    "start_time": "2022-07-26T22:23:23.931Z"
   },
   {
    "duration": 4,
    "start_time": "2022-07-26T22:23:25.032Z"
   },
   {
    "duration": 11,
    "start_time": "2022-07-26T22:23:25.038Z"
   },
   {
    "duration": 5,
    "start_time": "2022-07-26T22:23:25.050Z"
   },
   {
    "duration": 353104,
    "start_time": "2022-07-26T22:23:25.056Z"
   },
   {
    "duration": 105493,
    "start_time": "2022-07-26T22:29:18.162Z"
   },
   {
    "duration": 31625,
    "start_time": "2022-07-26T22:31:03.659Z"
   },
   {
    "duration": 8,
    "start_time": "2022-07-26T22:31:35.286Z"
   },
   {
    "duration": 36,
    "start_time": "2022-07-26T22:31:35.296Z"
   },
   {
    "duration": 7,
    "start_time": "2022-07-26T22:33:27.353Z"
   },
   {
    "duration": 392,
    "start_time": "2022-07-26T22:34:07.290Z"
   },
   {
    "duration": 12,
    "start_time": "2022-07-26T22:34:16.936Z"
   },
   {
    "duration": 11,
    "start_time": "2022-07-26T22:34:26.643Z"
   },
   {
    "duration": 7,
    "start_time": "2022-07-26T22:35:00.908Z"
   },
   {
    "duration": 1364,
    "start_time": "2022-07-26T22:35:34.749Z"
   },
   {
    "duration": 731,
    "start_time": "2022-07-26T22:35:36.115Z"
   },
   {
    "duration": 26,
    "start_time": "2022-07-26T22:35:36.848Z"
   },
   {
    "duration": 9,
    "start_time": "2022-07-26T22:35:36.875Z"
   },
   {
    "duration": 8,
    "start_time": "2022-07-26T22:35:36.886Z"
   },
   {
    "duration": 3,
    "start_time": "2022-07-26T22:35:36.895Z"
   },
   {
    "duration": 4,
    "start_time": "2022-07-26T22:35:36.900Z"
   },
   {
    "duration": 77768,
    "start_time": "2022-07-26T22:35:36.930Z"
   },
   {
    "duration": 2,
    "start_time": "2022-07-26T22:36:54.700Z"
   },
   {
    "duration": 46,
    "start_time": "2022-07-26T22:36:54.705Z"
   },
   {
    "duration": 3602,
    "start_time": "2022-07-26T22:36:54.752Z"
   },
   {
    "duration": 1104,
    "start_time": "2022-07-26T22:36:58.356Z"
   },
   {
    "duration": 1130,
    "start_time": "2022-07-26T22:36:59.462Z"
   },
   {
    "duration": 4,
    "start_time": "2022-07-26T22:37:00.594Z"
   },
   {
    "duration": 16,
    "start_time": "2022-07-26T22:37:00.599Z"
   },
   {
    "duration": 11,
    "start_time": "2022-07-26T22:37:00.616Z"
   },
   {
    "duration": 352792,
    "start_time": "2022-07-26T22:37:00.628Z"
   },
   {
    "duration": 106617,
    "start_time": "2022-07-26T22:42:53.421Z"
   },
   {
    "duration": 31738,
    "start_time": "2022-07-26T22:44:40.042Z"
   },
   {
    "duration": 8,
    "start_time": "2022-07-26T22:45:11.781Z"
   },
   {
    "duration": 26,
    "start_time": "2022-07-26T22:45:11.790Z"
   }
  ],
  "kernelspec": {
   "display_name": "Python 3",
   "language": "python",
   "name": "python3"
  },
  "language_info": {
   "codemirror_mode": {
    "name": "ipython",
    "version": 3
   },
   "file_extension": ".py",
   "mimetype": "text/x-python",
   "name": "python",
   "nbconvert_exporter": "python",
   "pygments_lexer": "ipython3",
   "version": "3.8.5"
  },
  "toc": {
   "base_numbering": 1,
   "nav_menu": {},
   "number_sections": true,
   "sideBar": true,
   "skip_h1_title": true,
   "title_cell": "Содержание",
   "title_sidebar": "Contents",
   "toc_cell": true,
   "toc_position": {
    "height": "calc(100% - 180px)",
    "left": "10px",
    "top": "150px",
    "width": "313.16px"
   },
   "toc_section_display": true,
   "toc_window_display": true
  }
 },
 "nbformat": 4,
 "nbformat_minor": 2
}
